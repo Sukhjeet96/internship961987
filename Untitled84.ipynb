{
 "cells": [
  {
   "cell_type": "code",
   "execution_count": 3,
   "id": "5a42a8c7",
   "metadata": {},
   "outputs": [
    {
     "name": "stdout",
     "output_type": "stream",
     "text": [
      "    State  Population  LiteracyRate   Area\n",
      "0  State1     1000000            85  50000\n",
      "1  State2     2000000            78  75000\n",
      "2  State3     1500000            90  60000\n"
     ]
    }
   ],
   "source": [
    "import pandas as pd\n",
    "population_data = {\n",
    "    'State': ['State1', 'State2', 'State3'],\n",
    "    'Population': [1000000, 2000000, 1500000]\n",
    "}\n",
    "literacy_rate_data = {\n",
    "    'State': ['State1', 'State2', 'State3'],\n",
    "    'LiteracyRate': [85, 78, 90]\n",
    "}\n",
    "area_data = {\n",
    "    'State': ['State1', 'State2', 'State3'],\n",
    "    'Area': [50000, 75000, 60000]\n",
    "}\n",
    "\n",
    "population_df = pd.DataFrame(population_data)\n",
    "literacy_rate_df = pd.DataFrame(literacy_rate_data)\n",
    "area_df = pd.DataFrame(area_data)\n",
    "\n",
    "merged_df = population_df.merge(literacy_rate_df, on='State').merge(area_df, on='State')\n",
    "print(merged_df)\n"
   ]
  },
  {
   "cell_type": "code",
   "execution_count": 2,
   "id": "b7e79f8c",
   "metadata": {},
   "outputs": [
    {
     "name": "stderr",
     "output_type": "stream",
     "text": [
      "C:\\Users\\HP\\anaconda3\\Lib\\site-packages\\sklearn\\cluster\\_kmeans.py:870: FutureWarning: The default value of `n_init` will change from 10 to 'auto' in 1.4. Set the value of `n_init` explicitly to suppress the warning\n",
      "  warnings.warn(\n",
      "C:\\Users\\HP\\anaconda3\\Lib\\site-packages\\sklearn\\cluster\\_kmeans.py:1382: UserWarning: KMeans is known to have a memory leak on Windows with MKL, when there are less chunks than available threads. You can avoid it by setting the environment variable OMP_NUM_THREADS=1.\n",
      "  warnings.warn(\n"
     ]
    },
    {
     "name": "stdout",
     "output_type": "stream",
     "text": [
      "    State  TotalCrimes  Population  LiteracyRate  Cluster\n",
      "0  State1         1000     1000000            85        1\n",
      "1  State2         1500     2000000            78        0\n",
      "2  State3         1200     1500000            90        2\n"
     ]
    }
   ],
   "source": [
    "from sklearn.cluster import KMeans\n",
    "\n",
    "crime_data = {\n",
    "    'State': ['State1', 'State2', 'State3'],\n",
    "    'TotalCrimes': [1000, 1500, 1200],\n",
    "    'Population': [1000000, 2000000, 1500000],\n",
    "    'LiteracyRate': [85, 78, 90]\n",
    "}\n",
    "\n",
    "crime_df = pd.DataFrame(crime_data)\n",
    "\n",
    "kmeans = KMeans(n_clusters=3)\n",
    "crime_df['Cluster'] = kmeans.fit_predict(crime_df[['TotalCrimes', 'Population', 'LiteracyRate']])\n",
    "print(crime_df)\n"
   ]
  },
  {
   "cell_type": "code",
   "execution_count": null,
   "id": "6990c96e",
   "metadata": {},
   "outputs": [],
   "source": []
  }
 ],
 "metadata": {
  "kernelspec": {
   "display_name": "Python 3 (ipykernel)",
   "language": "python",
   "name": "python3"
  },
  "language_info": {
   "codemirror_mode": {
    "name": "ipython",
    "version": 3
   },
   "file_extension": ".py",
   "mimetype": "text/x-python",
   "name": "python",
   "nbconvert_exporter": "python",
   "pygments_lexer": "ipython3",
   "version": "3.11.3"
  }
 },
 "nbformat": 4,
 "nbformat_minor": 5
}
